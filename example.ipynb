{
 "nbformat": 4,
 "nbformat_minor": 2,
 "metadata": {
  "language_info": {
   "name": "python",
   "codemirror_mode": {
    "name": "ipython",
    "version": 3
   },
   "version": "3.7.4-final"
  },
  "orig_nbformat": 2,
  "file_extension": ".py",
  "mimetype": "text/x-python",
  "name": "python",
  "npconvert_exporter": "python",
  "pygments_lexer": "ipython3",
  "version": 3,
  "kernelspec": {
   "name": "python38264bit0b699e3505bc41e8bb396ea9f56d7243",
   "display_name": "Python 3.8.2 64-bit"
  }
 },
 "cells": [
  {
   "cell_type": "code",
   "execution_count": 1,
   "metadata": {},
   "outputs": [],
   "source": [
    "import methods"
   ]
  },
  {
   "cell_type": "code",
   "execution_count": 2,
   "metadata": {},
   "outputs": [],
   "source": [
    "fun = methods.F3([12, 1, -3])"
   ]
  },
  {
   "cell_type": "code",
   "execution_count": 3,
   "metadata": {},
   "outputs": [
    {
     "output_type": "stream",
     "name": "stdout",
     "text": "12sin(12x) + -3x\n"
    }
   ],
   "source": [
    "fun.print_description()"
   ]
  },
  {
   "cell_type": "code",
   "execution_count": 4,
   "metadata": {},
   "outputs": [],
   "source": [
    "i, x, log = methods.bisection_method(-3, 10, fun, 1e-3)"
   ]
  },
  {
   "cell_type": "code",
   "execution_count": 5,
   "metadata": {},
   "outputs": [
    {
     "output_type": "execute_result",
     "data": {
      "text/plain": "False"
     },
     "metadata": {},
     "execution_count": 5
    }
   ],
   "source": [
    "abs(fun(x)) < 1e-3"
   ]
  },
  {
   "cell_type": "code",
   "execution_count": 9,
   "metadata": {},
   "outputs": [
    {
     "output_type": "execute_result",
     "data": {
      "text/plain": "[[-3, 10, 3.5],\n [-3, 3.5, 0.25],\n [-3, 0.25, -1.375],\n [-1.375, 0.25, -0.5625],\n [-0.5625, 0.25, -0.15625],\n [-0.15625, 0.25, 0.046875],\n [0.046875, 0.25, 0.1484375],\n [0.1484375, 0.25, 0.19921875],\n [0.19921875, 0.25, 0.224609375],\n [0.224609375, 0.25, 0.2373046875],\n [0.2373046875, 0.25, 0.24365234375],\n [0.2373046875, 0.24365234375, 0.240478515625],\n [0.240478515625, 0.24365234375, 0.2420654296875],\n [0.240478515625, 0.2420654296875, 0.24127197265625],\n [0.240478515625, 0.24127197265625, 0.240875244140625]]"
     },
     "metadata": {},
     "execution_count": 9
    }
   ],
   "source": [
    "log"
   ]
  },
  {
   "cell_type": "code",
   "execution_count": 8,
   "metadata": {},
   "outputs": [
    {
     "output_type": "execute_result",
     "data": {
      "text/plain": "True"
     },
     "metadata": {},
     "execution_count": 8
    }
   ],
   "source": [
    "abs(0.240478515625-0.24127197265625)<1e-3"
   ]
  }
 ]
}